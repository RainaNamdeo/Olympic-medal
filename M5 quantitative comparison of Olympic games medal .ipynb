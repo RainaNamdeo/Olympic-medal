{
 "cells": [
  {
   "cell_type": "code",
   "execution_count": 1,
   "metadata": {},
   "outputs": [],
   "source": [
    "import pandas as pd\n",
    "import matplotlib.pyplot as plt\n"
   ]
  },
  {
   "cell_type": "code",
   "execution_count": 2,
   "metadata": {},
   "outputs": [
    {
     "data": {
      "text/html": [
       "<div>\n",
       "<style scoped>\n",
       "    .dataframe tbody tr th:only-of-type {\n",
       "        vertical-align: middle;\n",
       "    }\n",
       "\n",
       "    .dataframe tbody tr th {\n",
       "        vertical-align: top;\n",
       "    }\n",
       "\n",
       "    .dataframe thead th {\n",
       "        text-align: right;\n",
       "    }\n",
       "</style>\n",
       "<table border=\"1\" class=\"dataframe\">\n",
       "  <thead>\n",
       "    <tr style=\"text-align: right;\">\n",
       "      <th></th>\n",
       "      <th>ID</th>\n",
       "      <th>Name</th>\n",
       "      <th>Sex</th>\n",
       "      <th>Age</th>\n",
       "      <th>Height</th>\n",
       "      <th>Weight</th>\n",
       "      <th>Team</th>\n",
       "      <th>NOC</th>\n",
       "      <th>Games</th>\n",
       "      <th>Year</th>\n",
       "      <th>Season</th>\n",
       "      <th>City</th>\n",
       "      <th>Sport</th>\n",
       "      <th>Event</th>\n",
       "      <th>Medal</th>\n",
       "    </tr>\n",
       "  </thead>\n",
       "  <tbody>\n",
       "    <tr>\n",
       "      <th>158</th>\n",
       "      <td>62</td>\n",
       "      <td>Giovanni Abagnale</td>\n",
       "      <td>M</td>\n",
       "      <td>21.0</td>\n",
       "      <td>198.0</td>\n",
       "      <td>90.0</td>\n",
       "      <td>Italy</td>\n",
       "      <td>ITA</td>\n",
       "      <td>2016 Summer</td>\n",
       "      <td>2016</td>\n",
       "      <td>Summer</td>\n",
       "      <td>Rio de Janeiro</td>\n",
       "      <td>Rowing</td>\n",
       "      <td>Rowing Men's Coxless Pairs</td>\n",
       "      <td>Bronze</td>\n",
       "    </tr>\n",
       "    <tr>\n",
       "      <th>161</th>\n",
       "      <td>65</td>\n",
       "      <td>Patimat Abakarova</td>\n",
       "      <td>F</td>\n",
       "      <td>21.0</td>\n",
       "      <td>165.0</td>\n",
       "      <td>49.0</td>\n",
       "      <td>Azerbaijan</td>\n",
       "      <td>AZE</td>\n",
       "      <td>2016 Summer</td>\n",
       "      <td>2016</td>\n",
       "      <td>Summer</td>\n",
       "      <td>Rio de Janeiro</td>\n",
       "      <td>Taekwondo</td>\n",
       "      <td>Taekwondo Women's Flyweight</td>\n",
       "      <td>Bronze</td>\n",
       "    </tr>\n",
       "    <tr>\n",
       "      <th>175</th>\n",
       "      <td>73</td>\n",
       "      <td>Luc Abalo</td>\n",
       "      <td>M</td>\n",
       "      <td>31.0</td>\n",
       "      <td>182.0</td>\n",
       "      <td>86.0</td>\n",
       "      <td>France</td>\n",
       "      <td>FRA</td>\n",
       "      <td>2016 Summer</td>\n",
       "      <td>2016</td>\n",
       "      <td>Summer</td>\n",
       "      <td>Rio de Janeiro</td>\n",
       "      <td>Handball</td>\n",
       "      <td>Handball Men's Handball</td>\n",
       "      <td>Silver</td>\n",
       "    </tr>\n",
       "    <tr>\n",
       "      <th>450</th>\n",
       "      <td>250</td>\n",
       "      <td>Saeid Morad Abdevali</td>\n",
       "      <td>M</td>\n",
       "      <td>26.0</td>\n",
       "      <td>170.0</td>\n",
       "      <td>80.0</td>\n",
       "      <td>Iran</td>\n",
       "      <td>IRI</td>\n",
       "      <td>2016 Summer</td>\n",
       "      <td>2016</td>\n",
       "      <td>Summer</td>\n",
       "      <td>Rio de Janeiro</td>\n",
       "      <td>Wrestling</td>\n",
       "      <td>Wrestling Men's Middleweight, Greco-Roman</td>\n",
       "      <td>Bronze</td>\n",
       "    </tr>\n",
       "    <tr>\n",
       "      <th>794</th>\n",
       "      <td>455</td>\n",
       "      <td>Denis Mikhaylovich Ablyazin</td>\n",
       "      <td>M</td>\n",
       "      <td>24.0</td>\n",
       "      <td>161.0</td>\n",
       "      <td>62.0</td>\n",
       "      <td>Russia</td>\n",
       "      <td>RUS</td>\n",
       "      <td>2016 Summer</td>\n",
       "      <td>2016</td>\n",
       "      <td>Summer</td>\n",
       "      <td>Rio de Janeiro</td>\n",
       "      <td>Gymnastics</td>\n",
       "      <td>Gymnastics Men's Team All-Around</td>\n",
       "      <td>Silver</td>\n",
       "    </tr>\n",
       "  </tbody>\n",
       "</table>\n",
       "</div>"
      ],
      "text/plain": [
       "      ID                         Name Sex   Age  Height  Weight        Team  \\\n",
       "158   62            Giovanni Abagnale   M  21.0   198.0    90.0       Italy   \n",
       "161   65            Patimat Abakarova   F  21.0   165.0    49.0  Azerbaijan   \n",
       "175   73                    Luc Abalo   M  31.0   182.0    86.0      France   \n",
       "450  250         Saeid Morad Abdevali   M  26.0   170.0    80.0        Iran   \n",
       "794  455  Denis Mikhaylovich Ablyazin   M  24.0   161.0    62.0      Russia   \n",
       "\n",
       "     NOC        Games  Year  Season            City       Sport  \\\n",
       "158  ITA  2016 Summer  2016  Summer  Rio de Janeiro      Rowing   \n",
       "161  AZE  2016 Summer  2016  Summer  Rio de Janeiro   Taekwondo   \n",
       "175  FRA  2016 Summer  2016  Summer  Rio de Janeiro    Handball   \n",
       "450  IRI  2016 Summer  2016  Summer  Rio de Janeiro   Wrestling   \n",
       "794  RUS  2016 Summer  2016  Summer  Rio de Janeiro  Gymnastics   \n",
       "\n",
       "                                         Event   Medal  \n",
       "158                 Rowing Men's Coxless Pairs  Bronze  \n",
       "161                Taekwondo Women's Flyweight  Bronze  \n",
       "175                    Handball Men's Handball  Silver  \n",
       "450  Wrestling Men's Middleweight, Greco-Roman  Bronze  \n",
       "794           Gymnastics Men's Team All-Around  Silver  "
      ]
     },
     "execution_count": 2,
     "metadata": {},
     "output_type": "execute_result"
    }
   ],
   "source": [
    "summer_olympic=pd.read_csv(\"D:/csv/summer2016.csv\",index_col=0)\n",
    "summer_olympic.head()"
   ]
  },
  {
   "cell_type": "code",
   "execution_count": 3,
   "metadata": {},
   "outputs": [
    {
     "data": {
      "text/html": [
       "<div>\n",
       "<style scoped>\n",
       "    .dataframe tbody tr th:only-of-type {\n",
       "        vertical-align: middle;\n",
       "    }\n",
       "\n",
       "    .dataframe tbody tr th {\n",
       "        vertical-align: top;\n",
       "    }\n",
       "\n",
       "    .dataframe thead th {\n",
       "        text-align: right;\n",
       "    }\n",
       "</style>\n",
       "<table border=\"1\" class=\"dataframe\">\n",
       "  <thead>\n",
       "    <tr style=\"text-align: right;\">\n",
       "      <th></th>\n",
       "      <th>ID</th>\n",
       "      <th>Name</th>\n",
       "      <th>Sex</th>\n",
       "      <th>Age</th>\n",
       "      <th>Height</th>\n",
       "      <th>Weight</th>\n",
       "      <th>Team</th>\n",
       "      <th>NOC</th>\n",
       "      <th>Games</th>\n",
       "      <th>Year</th>\n",
       "      <th>Season</th>\n",
       "      <th>City</th>\n",
       "      <th>Sport</th>\n",
       "      <th>Event</th>\n",
       "      <th>Medal</th>\n",
       "    </tr>\n",
       "  </thead>\n",
       "  <tbody>\n",
       "    <tr>\n",
       "      <th>158</th>\n",
       "      <td>62</td>\n",
       "      <td>Giovanni Abagnale</td>\n",
       "      <td>M</td>\n",
       "      <td>21.0</td>\n",
       "      <td>198.0</td>\n",
       "      <td>90.0</td>\n",
       "      <td>Italy</td>\n",
       "      <td>ITA</td>\n",
       "      <td>2016 Summer</td>\n",
       "      <td>2016</td>\n",
       "      <td>Summer</td>\n",
       "      <td>Rio de Janeiro</td>\n",
       "      <td>Rowing</td>\n",
       "      <td>Rowing Men's Coxless Pairs</td>\n",
       "      <td>Bronze</td>\n",
       "    </tr>\n",
       "    <tr>\n",
       "      <th>11648</th>\n",
       "      <td>6346</td>\n",
       "      <td>Jrmie Azou</td>\n",
       "      <td>M</td>\n",
       "      <td>27.0</td>\n",
       "      <td>178.0</td>\n",
       "      <td>71.0</td>\n",
       "      <td>France</td>\n",
       "      <td>FRA</td>\n",
       "      <td>2016 Summer</td>\n",
       "      <td>2016</td>\n",
       "      <td>Summer</td>\n",
       "      <td>Rio de Janeiro</td>\n",
       "      <td>Rowing</td>\n",
       "      <td>Rowing Men's Lightweight Double Sculls</td>\n",
       "      <td>Gold</td>\n",
       "    </tr>\n",
       "    <tr>\n",
       "      <th>14871</th>\n",
       "      <td>8025</td>\n",
       "      <td>Thomas Gabriel Jrmie Baroukh</td>\n",
       "      <td>M</td>\n",
       "      <td>28.0</td>\n",
       "      <td>183.0</td>\n",
       "      <td>70.0</td>\n",
       "      <td>France</td>\n",
       "      <td>FRA</td>\n",
       "      <td>2016 Summer</td>\n",
       "      <td>2016</td>\n",
       "      <td>Summer</td>\n",
       "      <td>Rio de Janeiro</td>\n",
       "      <td>Rowing</td>\n",
       "      <td>Rowing Men's Lightweight Coxless Fours</td>\n",
       "      <td>Bronze</td>\n",
       "    </tr>\n",
       "    <tr>\n",
       "      <th>15215</th>\n",
       "      <td>8214</td>\n",
       "      <td>Jacob Jepsen Barse</td>\n",
       "      <td>M</td>\n",
       "      <td>27.0</td>\n",
       "      <td>188.0</td>\n",
       "      <td>73.0</td>\n",
       "      <td>Denmark</td>\n",
       "      <td>DEN</td>\n",
       "      <td>2016 Summer</td>\n",
       "      <td>2016</td>\n",
       "      <td>Summer</td>\n",
       "      <td>Rio de Janeiro</td>\n",
       "      <td>Rowing</td>\n",
       "      <td>Rowing Men's Lightweight Coxless Fours</td>\n",
       "      <td>Silver</td>\n",
       "    </tr>\n",
       "    <tr>\n",
       "      <th>18441</th>\n",
       "      <td>9764</td>\n",
       "      <td>Alexander Belonogoff</td>\n",
       "      <td>M</td>\n",
       "      <td>26.0</td>\n",
       "      <td>187.0</td>\n",
       "      <td>90.0</td>\n",
       "      <td>Australia</td>\n",
       "      <td>AUS</td>\n",
       "      <td>2016 Summer</td>\n",
       "      <td>2016</td>\n",
       "      <td>Summer</td>\n",
       "      <td>Rio de Janeiro</td>\n",
       "      <td>Rowing</td>\n",
       "      <td>Rowing Men's Quadruple Sculls</td>\n",
       "      <td>Silver</td>\n",
       "    </tr>\n",
       "  </tbody>\n",
       "</table>\n",
       "</div>"
      ],
      "text/plain": [
       "         ID                          Name Sex   Age  Height  Weight  \\\n",
       "158      62             Giovanni Abagnale   M  21.0   198.0    90.0   \n",
       "11648  6346                    Jrmie Azou   M  27.0   178.0    71.0   \n",
       "14871  8025  Thomas Gabriel Jrmie Baroukh   M  28.0   183.0    70.0   \n",
       "15215  8214            Jacob Jepsen Barse   M  27.0   188.0    73.0   \n",
       "18441  9764          Alexander Belonogoff   M  26.0   187.0    90.0   \n",
       "\n",
       "            Team  NOC        Games  Year  Season            City   Sport  \\\n",
       "158        Italy  ITA  2016 Summer  2016  Summer  Rio de Janeiro  Rowing   \n",
       "11648     France  FRA  2016 Summer  2016  Summer  Rio de Janeiro  Rowing   \n",
       "14871     France  FRA  2016 Summer  2016  Summer  Rio de Janeiro  Rowing   \n",
       "15215    Denmark  DEN  2016 Summer  2016  Summer  Rio de Janeiro  Rowing   \n",
       "18441  Australia  AUS  2016 Summer  2016  Summer  Rio de Janeiro  Rowing   \n",
       "\n",
       "                                        Event   Medal  \n",
       "158                Rowing Men's Coxless Pairs  Bronze  \n",
       "11648  Rowing Men's Lightweight Double Sculls    Gold  \n",
       "14871  Rowing Men's Lightweight Coxless Fours  Bronze  \n",
       "15215  Rowing Men's Lightweight Coxless Fours  Silver  \n",
       "18441           Rowing Men's Quadruple Sculls  Silver  "
      ]
     },
     "execution_count": 3,
     "metadata": {},
     "output_type": "execute_result"
    }
   ],
   "source": [
    "mens_rowing=summer_olympic[(summer_olympic[\"Sex\"]==\"M\") & (summer_olympic[\"Sport\"]==\"Rowing\")]\n",
    "mens_rowing.head()"
   ]
  },
  {
   "cell_type": "code",
   "execution_count": 4,
   "metadata": {},
   "outputs": [
    {
     "data": {
      "text/html": [
       "<div>\n",
       "<style scoped>\n",
       "    .dataframe tbody tr th:only-of-type {\n",
       "        vertical-align: middle;\n",
       "    }\n",
       "\n",
       "    .dataframe tbody tr th {\n",
       "        vertical-align: top;\n",
       "    }\n",
       "\n",
       "    .dataframe thead th {\n",
       "        text-align: right;\n",
       "    }\n",
       "</style>\n",
       "<table border=\"1\" class=\"dataframe\">\n",
       "  <thead>\n",
       "    <tr style=\"text-align: right;\">\n",
       "      <th></th>\n",
       "      <th>ID</th>\n",
       "      <th>Name</th>\n",
       "      <th>Sex</th>\n",
       "      <th>Age</th>\n",
       "      <th>Height</th>\n",
       "      <th>Weight</th>\n",
       "      <th>Team</th>\n",
       "      <th>NOC</th>\n",
       "      <th>Games</th>\n",
       "      <th>Year</th>\n",
       "      <th>Season</th>\n",
       "      <th>City</th>\n",
       "      <th>Sport</th>\n",
       "      <th>Event</th>\n",
       "      <th>Medal</th>\n",
       "    </tr>\n",
       "  </thead>\n",
       "  <tbody>\n",
       "    <tr>\n",
       "      <th>794</th>\n",
       "      <td>455</td>\n",
       "      <td>Denis Mikhaylovich Ablyazin</td>\n",
       "      <td>M</td>\n",
       "      <td>24.0</td>\n",
       "      <td>161.0</td>\n",
       "      <td>62.0</td>\n",
       "      <td>Russia</td>\n",
       "      <td>RUS</td>\n",
       "      <td>2016 Summer</td>\n",
       "      <td>2016</td>\n",
       "      <td>Summer</td>\n",
       "      <td>Rio de Janeiro</td>\n",
       "      <td>Gymnastics</td>\n",
       "      <td>Gymnastics Men's Team All-Around</td>\n",
       "      <td>Silver</td>\n",
       "    </tr>\n",
       "    <tr>\n",
       "      <th>796</th>\n",
       "      <td>455</td>\n",
       "      <td>Denis Mikhaylovich Ablyazin</td>\n",
       "      <td>M</td>\n",
       "      <td>24.0</td>\n",
       "      <td>161.0</td>\n",
       "      <td>62.0</td>\n",
       "      <td>Russia</td>\n",
       "      <td>RUS</td>\n",
       "      <td>2016 Summer</td>\n",
       "      <td>2016</td>\n",
       "      <td>Summer</td>\n",
       "      <td>Rio de Janeiro</td>\n",
       "      <td>Gymnastics</td>\n",
       "      <td>Gymnastics Men's Horse Vault</td>\n",
       "      <td>Silver</td>\n",
       "    </tr>\n",
       "    <tr>\n",
       "      <th>797</th>\n",
       "      <td>455</td>\n",
       "      <td>Denis Mikhaylovich Ablyazin</td>\n",
       "      <td>M</td>\n",
       "      <td>24.0</td>\n",
       "      <td>161.0</td>\n",
       "      <td>62.0</td>\n",
       "      <td>Russia</td>\n",
       "      <td>RUS</td>\n",
       "      <td>2016 Summer</td>\n",
       "      <td>2016</td>\n",
       "      <td>Summer</td>\n",
       "      <td>Rio de Janeiro</td>\n",
       "      <td>Gymnastics</td>\n",
       "      <td>Gymnastics Men's Rings</td>\n",
       "      <td>Bronze</td>\n",
       "    </tr>\n",
       "    <tr>\n",
       "      <th>18577</th>\n",
       "      <td>9829</td>\n",
       "      <td>David Sagitovich Belyavsky</td>\n",
       "      <td>M</td>\n",
       "      <td>24.0</td>\n",
       "      <td>165.0</td>\n",
       "      <td>55.0</td>\n",
       "      <td>Russia</td>\n",
       "      <td>RUS</td>\n",
       "      <td>2016 Summer</td>\n",
       "      <td>2016</td>\n",
       "      <td>Summer</td>\n",
       "      <td>Rio de Janeiro</td>\n",
       "      <td>Gymnastics</td>\n",
       "      <td>Gymnastics Men's Team All-Around</td>\n",
       "      <td>Silver</td>\n",
       "    </tr>\n",
       "    <tr>\n",
       "      <th>18579</th>\n",
       "      <td>9829</td>\n",
       "      <td>David Sagitovich Belyavsky</td>\n",
       "      <td>M</td>\n",
       "      <td>24.0</td>\n",
       "      <td>165.0</td>\n",
       "      <td>55.0</td>\n",
       "      <td>Russia</td>\n",
       "      <td>RUS</td>\n",
       "      <td>2016 Summer</td>\n",
       "      <td>2016</td>\n",
       "      <td>Summer</td>\n",
       "      <td>Rio de Janeiro</td>\n",
       "      <td>Gymnastics</td>\n",
       "      <td>Gymnastics Men's Parallel Bars</td>\n",
       "      <td>Bronze</td>\n",
       "    </tr>\n",
       "  </tbody>\n",
       "</table>\n",
       "</div>"
      ],
      "text/plain": [
       "         ID                         Name Sex   Age  Height  Weight    Team  \\\n",
       "794     455  Denis Mikhaylovich Ablyazin   M  24.0   161.0    62.0  Russia   \n",
       "796     455  Denis Mikhaylovich Ablyazin   M  24.0   161.0    62.0  Russia   \n",
       "797     455  Denis Mikhaylovich Ablyazin   M  24.0   161.0    62.0  Russia   \n",
       "18577  9829   David Sagitovich Belyavsky   M  24.0   165.0    55.0  Russia   \n",
       "18579  9829   David Sagitovich Belyavsky   M  24.0   165.0    55.0  Russia   \n",
       "\n",
       "       NOC        Games  Year  Season            City       Sport  \\\n",
       "794    RUS  2016 Summer  2016  Summer  Rio de Janeiro  Gymnastics   \n",
       "796    RUS  2016 Summer  2016  Summer  Rio de Janeiro  Gymnastics   \n",
       "797    RUS  2016 Summer  2016  Summer  Rio de Janeiro  Gymnastics   \n",
       "18577  RUS  2016 Summer  2016  Summer  Rio de Janeiro  Gymnastics   \n",
       "18579  RUS  2016 Summer  2016  Summer  Rio de Janeiro  Gymnastics   \n",
       "\n",
       "                                  Event   Medal  \n",
       "794    Gymnastics Men's Team All-Around  Silver  \n",
       "796        Gymnastics Men's Horse Vault  Silver  \n",
       "797              Gymnastics Men's Rings  Bronze  \n",
       "18577  Gymnastics Men's Team All-Around  Silver  \n",
       "18579    Gymnastics Men's Parallel Bars  Bronze  "
      ]
     },
     "execution_count": 4,
     "metadata": {},
     "output_type": "execute_result"
    }
   ],
   "source": [
    "mens_gymnastic=summer_olympic[(summer_olympic[\"Sex\"]==\"M\") & (summer_olympic[\"Sport\"]==\"Gymnastics\")]\n",
    "mens_gymnastic.head()"
   ]
  },
  {
   "cell_type": "code",
   "execution_count": 5,
   "metadata": {},
   "outputs": [
    {
     "data": {
      "text/plain": [
       "<function matplotlib.pyplot.show(close=None, block=None)>"
      ]
     },
     "execution_count": 5,
     "metadata": {},
     "output_type": "execute_result"
    },
    {
     "data": {
      "image/png": "[encoded data removed]",
      "text/plain": [
       "<Figure size 432x288 with 1 Axes>"
      ]
     },
     "metadata": {
      "needs_background": "light"
     },
     "output_type": "display_data"
    }
   ],
   "source": [
    "fig,ax=plt.subplots()\n",
    "ax.bar(\"Rowing\",mens_rowing[\"Height\"].mean())\n",
    "plt.show"
   ]
  },
  {
   "cell_type": "code",
   "execution_count": 6,
   "metadata": {},
   "outputs": [
    {
     "data": {
      "text/plain": [
       "<function matplotlib.pyplot.show(close=None, block=None)>"
      ]
     },
     "execution_count": 6,
     "metadata": {},
     "output_type": "execute_result"
    },
    {
     "data": {
      "image/png": "[encoded data removed]",
      "text/plain": [
       "<Figure size 432x288 with 1 Axes>"
      ]
     },
     "metadata": {
      "needs_background": "light"
     },
     "output_type": "display_data"
    }
   ],
   "source": [
    "fig,ax=plt.subplots()\n",
    "ax.bar(\"Rowing\",mens_rowing[\"Height\"].mean())\n",
    "ax.bar(\"Gymnastics\",mens_gymnastic[\"Height\"].mean())\n",
    "\n",
    "plt.show"
   ]
  },
  {
   "cell_type": "code",
   "execution_count": 7,
   "metadata": {},
   "outputs": [
    {
     "data": {
      "text/plain": [
       "<function matplotlib.pyplot.show(close=None, block=None)>"
      ]
     },
     "execution_count": 7,
     "metadata": {},
     "output_type": "execute_result"
    },
    {
     "data": {
      "image/png": "[encoded data removed]",
      "text/plain": [
       "<Figure size 432x288 with 1 Axes>"
      ]
     },
     "metadata": {
      "needs_background": "light"
     },
     "output_type": "display_data"
    }
   ],
   "source": [
    "fig,ax=plt.subplots()\n",
    "ax.hist(mens_rowing[\"Height\"])\n",
    "plt.show"
   ]
  },
  {
   "cell_type": "code",
   "execution_count": 8,
   "metadata": {},
   "outputs": [
    {
     "data": {
      "text/plain": [
       "<function matplotlib.pyplot.show(close=None, block=None)>"
      ]
     },
     "execution_count": 8,
     "metadata": {},
     "output_type": "execute_result"
    },
    {
     "data": {
      "image/png": "[encoded data removed]",
      "text/plain": [
       "<Figure size 432x288 with 1 Axes>"
      ]
     },
     "metadata": {
      "needs_background": "light"
     },
     "output_type": "display_data"
    }
   ],
   "source": [
    "fig,ax=plt.subplots()\n",
    "ax.hist(mens_rowing[\"Height\"])\n",
    "ax.hist(mens_gymnastic[\"Height\"])\n",
    "\n",
    "plt.show"
   ]
  },
  {
   "cell_type": "code",
   "execution_count": 9,
   "metadata": {},
   "outputs": [
    {
     "data": {
      "text/plain": [
       "<function matplotlib.pyplot.show(close=None, block=None)>"
      ]
     },
     "execution_count": 9,
     "metadata": {},
     "output_type": "execute_result"
    },
    {
     "data": {
      "image/png": "[encoded data removed]",
      "text/plain": [
       "<Figure size 432x288 with 1 Axes>"
      ]
     },
     "metadata": {
      "needs_background": "light"
     },
     "output_type": "display_data"
    }
   ],
   "source": [
    "fig,ax=plt.subplots()\n",
    "ax.hist(mens_rowing[\"Height\"],label=\"rowing\")\n",
    "ax.hist(mens_gymnastic[\"Height\"],label=\"gymnastic\")\n",
    "ax.legend()\n",
    "plt.show"
   ]
  },
  {
   "cell_type": "code",
   "execution_count": 10,
   "metadata": {},
   "outputs": [
    {
     "data": {
      "text/plain": [
       "<function matplotlib.pyplot.show(close=None, block=None)>"
      ]
     },
     "execution_count": 10,
     "metadata": {},
     "output_type": "execute_result"
    },
    {
     "data": {
      "image/png": "[encoded data removed]",
      "text/plain": [
       "<Figure size 432x288 with 1 Axes>"
      ]
     },
     "metadata": {
      "needs_background": "light"
     },
     "output_type": "display_data"
    }
   ],
   "source": [
    "fig,ax=plt.subplots()\n",
    "ax.hist(mens_rowing[\"Height\"],label=\"rowing\",bins=5)\n",
    "ax.hist(mens_gymnastic[\"Height\"],label=\"gymnastic\",bins=5)\n",
    "ax.legend()\n",
    "plt.show"
   ]
  },
  {
   "cell_type": "code",
   "execution_count": 11,
   "metadata": {},
   "outputs": [
    {
     "data": {
      "text/plain": [
       "<function matplotlib.pyplot.show(close=None, block=None)>"
      ]
     },
     "execution_count": 11,
     "metadata": {},
     "output_type": "execute_result"
    },
    {
     "data": {
      "image/png": "[encoded data removed]",
      "text/plain": [
       "<Figure size 432x288 with 1 Axes>"
      ]
     },
     "metadata": {
      "needs_background": "light"
     },
     "output_type": "display_data"
    }
   ],
   "source": [
    "fig,ax=plt.subplots()\n",
    "ax.hist(mens_rowing[\"Height\"],label=\"rowing\",histtype=\"step\")\n",
    "ax.hist(mens_gymnastic[\"Height\"],label=\"gymnastic\",histtype=\"step\")\n",
    "ax.legend()\n",
    "plt.show"
   ]
  },
  {
   "cell_type": "code",
   "execution_count": 12,
   "metadata": {},
   "outputs": [
    {
     "data": {
      "text/plain": [
       "<function matplotlib.pyplot.show(close=None, block=None)>"
      ]
     },
     "execution_count": 12,
     "metadata": {},
     "output_type": "execute_result"
    },
    {
     "data": {
      "image/png": "[encoded data removed]",
      "text/plain": [
       "<Figure size 432x288 with 1 Axes>"
      ]
     },
     "metadata": {
      "needs_background": "light"
     },
     "output_type": "display_data"
    }
   ],
   "source": [
    "fig,ax=plt.subplots()\n",
    "ax.bar(\"Rowing\",mens_rowing[\"Height\"].mean(),yerr= mens_rowing[\"Height\"].std())\n",
    "ax.bar(\"Gymnastic\",mens_gymnastic[\"Height\"].mean(),yerr= mens_gymnastic[\"Height\"].std())\n",
    "plt.show"
   ]
  },
  {
   "cell_type": "code",
   "execution_count": null,
   "metadata": {},
   "outputs": [],
   "source": []
  }
 ],
 "metadata": {
  "kernelspec": {
   "display_name": "Python 3",
   "language": "python",
   "name": "python3"
  },
  "language_info": {
   "codemirror_mode": {
    "name": "ipython",
    "version": 3
   },
   "file_extension": ".py",
   "mimetype": "text/x-python",
   "name": "python",
   "nbconvert_exporter": "python",
   "pygments_lexer": "ipython3",
   "version": "3.8.5"
  }
 },
 "nbformat": 4,
 "nbformat_minor": 4
}
